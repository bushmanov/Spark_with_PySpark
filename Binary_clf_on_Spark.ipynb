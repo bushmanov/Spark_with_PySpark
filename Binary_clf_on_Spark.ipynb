{
 "cells": [
  {
   "cell_type": "markdown",
   "metadata": {},
   "source": [
    "## Prepare data"
   ]
  },
  {
   "cell_type": "code",
   "execution_count": 1,
   "metadata": {
    "collapsed": false
   },
   "outputs": [],
   "source": [
    "import time\n",
    "import numpy as np\n",
    "import matplotlib.pyplot as plt\n",
    "from collections import OrderedDict\n",
    "from pyspark import SparkContext\n",
    "from pyspark.mllib.classification import LogisticRegressionWithSGD\n",
    "from pyspark.mllib.tree import RandomForest\n",
    "from pyspark.mllib.classification import LabeledPoint\n",
    "%matplotlib inline"
   ]
  },
  {
   "cell_type": "code",
   "execution_count": 2,
   "metadata": {
    "collapsed": false
   },
   "outputs": [],
   "source": [
    "sc = SparkContext()"
   ]
  },
  {
   "cell_type": "markdown",
   "metadata": {},
   "source": [
    "`clean.csv` is original file with `nan` filled with mean of the column."
   ]
  },
  {
   "cell_type": "code",
   "execution_count": 3,
   "metadata": {
    "collapsed": false
   },
   "outputs": [
    {
     "data": {
      "text/plain": [
       "891"
      ]
     },
     "execution_count": 3,
     "metadata": {},
     "output_type": "execute_result"
    }
   ],
   "source": [
    "features = sc.textFile('/home/sergey/MachineLearning/biline/clean.csv')\n",
    "features = features.map(lambda x: [float(el) for el in x.split()])\n",
    "features.count()"
   ]
  },
  {
   "cell_type": "code",
   "execution_count": 4,
   "metadata": {
    "collapsed": false
   },
   "outputs": [
    {
     "data": {
      "text/plain": [
       "891"
      ]
     },
     "execution_count": 4,
     "metadata": {},
     "output_type": "execute_result"
    }
   ],
   "source": [
    "labels = sc.textFile('/home/sergey/MachineLearning/biline/labels.csv')\n",
    "labels = labels.map(lambda x: float(x))\n",
    "labels.count()"
   ]
  },
  {
   "cell_type": "code",
   "execution_count": 5,
   "metadata": {
    "collapsed": false
   },
   "outputs": [],
   "source": [
    "lp = labels.zip(features).map(lambda x: LabeledPoint(x[0], x[1]))"
   ]
  },
  {
   "cell_type": "markdown",
   "metadata": {},
   "source": [
    "## Training Logistic Regression and Random Forest"
   ]
  },
  {
   "cell_type": "code",
   "execution_count": 6,
   "metadata": {
    "collapsed": false
   },
   "outputs": [],
   "source": [
    "train, test = lp.randomSplit([.8,.2], seed = 1)\n",
    "\n",
    "train.cache();"
   ]
  },
  {
   "cell_type": "code",
   "execution_count": 7,
   "metadata": {
    "collapsed": false
   },
   "outputs": [],
   "source": [
    "# fixed hyperparameters\n",
    "numIters = 10000\n",
    "stepSize = .001\n",
    "regParam = 1e-5\n",
    "regType = 'l1'\n",
    "includeIntercept = True\n",
    "\n",
    "mod_lg = LogisticRegressionWithSGD.train(data= train\n",
    "                                        ,iterations = numIters\n",
    "                                        ,step = stepSize\n",
    "                                        ,regParam = regParam\n",
    "                                        ,regType = regType\n",
    "                                        ,intercept = includeIntercept)"
   ]
  },
  {
   "cell_type": "code",
   "execution_count": 8,
   "metadata": {
    "collapsed": true
   },
   "outputs": [],
   "source": [
    "LogisticRegressionWithSGD.train?"
   ]
  },
  {
   "cell_type": "code",
   "execution_count": 9,
   "metadata": {
    "collapsed": false
   },
   "outputs": [],
   "source": [
    "mod_rf = RandomForest.trainClassifier(data = train\n",
    "                                     ,numClasses =2\n",
    "                                     ,categoricalFeaturesInfo ={}\n",
    "                                     ,numTrees = 1000\n",
    "                                     ,maxDepth =4\n",
    "                                     ,seed =1)"
   ]
  },
  {
   "cell_type": "markdown",
   "metadata": {},
   "source": [
    "## By how much have we improved the base case: Log Loss"
   ]
  },
  {
   "cell_type": "code",
   "execution_count": 10,
   "metadata": {
    "collapsed": true
   },
   "outputs": [],
   "source": [
    "from math import log\n",
    "\n",
    "def log_loss(p, y):\n",
    "    \"\"\"Calculates the value of log loss for a given probabilty and label.\n",
    "\n",
    "    Note:\n",
    "        log(0) is undefined, so when p is 0 we need to add a small value (epsilon) to it\n",
    "        and when p is 1 we need to subtract a small value (epsilon) from it.\n",
    "\n",
    "    Args:\n",
    "        p (float): A probabilty between 0 and 1.\n",
    "        y (int): A label.  Takes on the values 0 and 1.\n",
    "\n",
    "    Returns:\n",
    "        float: The log loss value.\n",
    "    \"\"\"\n",
    "    epsilon = 10e-12\n",
    "    \n",
    "    if p == 0:\n",
    "        p += epsilon\n",
    "    if p == 1:\n",
    "        p -= epsilon\n",
    "    if y == 1:\n",
    "        return -log(p)   \n",
    "    if y == 0:\n",
    "        return -log(1-p)"
   ]
  },
  {
   "cell_type": "markdown",
   "metadata": {},
   "source": [
    "Baseline probability"
   ]
  },
  {
   "cell_type": "code",
   "execution_count": 11,
   "metadata": {
    "collapsed": false
   },
   "outputs": [
    {
     "data": {
      "text/plain": [
       "0.3722943722943721"
      ]
     },
     "execution_count": 11,
     "metadata": {},
     "output_type": "execute_result"
    }
   ],
   "source": [
    "base_prob = train.map(lambda x: x.label).mean()\n",
    "base_prob"
   ]
  },
  {
   "cell_type": "markdown",
   "metadata": {},
   "source": [
    "####Baseline logloss"
   ]
  },
  {
   "cell_type": "code",
   "execution_count": 12,
   "metadata": {
    "collapsed": false
   },
   "outputs": [
    {
     "data": {
      "text/plain": [
       "0.6601655021720751"
      ]
     },
     "execution_count": 12,
     "metadata": {},
     "output_type": "execute_result"
    }
   ],
   "source": [
    "train.map(lambda x: log_loss(base_prob, x.label)).mean()"
   ]
  },
  {
   "cell_type": "markdown",
   "metadata": {},
   "source": [
    "Model logloss"
   ]
  },
  {
   "cell_type": "code",
   "execution_count": 13,
   "metadata": {
    "collapsed": true
   },
   "outputs": [],
   "source": [
    "from math import exp\n",
    "from pyspark.mllib.linalg import DenseVector"
   ]
  },
  {
   "cell_type": "code",
   "execution_count": 14,
   "metadata": {
    "collapsed": true
   },
   "outputs": [],
   "source": [
    "def get_proba(x, w, intercept):\n",
    "    \"\"\"Calculate the probability for an observation given a set of weights and intercept.\n",
    "\n",
    "    Note:\n",
    "        We'll bound our raw prediction between 20 and -20 for numerical purposes.\n",
    "\n",
    "    Args:\n",
    "        x (SparseVector): A vector with values of 1.0 for features that exist in this\n",
    "            observation and 0.0 otherwise.\n",
    "        w (DenseVector): A vector of weights (betas) for the model.\n",
    "        intercept (float): The model's intercept.\n",
    "\n",
    "    Returns:\n",
    "        float: A probability between 0 and 1.\n",
    "    \"\"\"\n",
    "    rawPrediction = intercept + DenseVector.dot(w,x)\n",
    "\n",
    "    # Bound the raw prediction value\n",
    "    rawPrediction = min(rawPrediction,  100)\n",
    "    rawPrediction = max(rawPrediction, -100)\n",
    "    return 1/(1 + exp(-rawPrediction))"
   ]
  },
  {
   "cell_type": "code",
   "execution_count": 15,
   "metadata": {
    "collapsed": true
   },
   "outputs": [],
   "source": [
    "def evaluate_model(data, model):\n",
    "    return data.map(lambda x: log_loss(get_proba(x.features, model.weights, model.intercept), x.label)).mean()"
   ]
  },
  {
   "cell_type": "markdown",
   "metadata": {},
   "source": [
    "#### Logistic regression logloss on the train set"
   ]
  },
  {
   "cell_type": "code",
   "execution_count": 16,
   "metadata": {
    "collapsed": false
   },
   "outputs": [
    {
     "data": {
      "text/plain": [
       "0.6095041797935562"
      ]
     },
     "execution_count": 16,
     "metadata": {},
     "output_type": "execute_result"
    }
   ],
   "source": [
    "evaluate_model(train, mod_lg)"
   ]
  },
  {
   "cell_type": "markdown",
   "metadata": {},
   "source": [
    "#### Baseline logloss on held-out test set"
   ]
  },
  {
   "cell_type": "code",
   "execution_count": 17,
   "metadata": {
    "collapsed": false
   },
   "outputs": [
    {
     "data": {
      "text/plain": [
       "0.6873024604145199"
      ]
     },
     "execution_count": 17,
     "metadata": {},
     "output_type": "execute_result"
    }
   ],
   "source": [
    "test.map(lambda x: log_loss(base_prob, x.label)).mean()"
   ]
  },
  {
   "cell_type": "markdown",
   "metadata": {},
   "source": [
    "#### Logistic regression logloss on held-out test set"
   ]
  },
  {
   "cell_type": "code",
   "execution_count": 18,
   "metadata": {
    "collapsed": false
   },
   "outputs": [
    {
     "data": {
      "text/plain": [
       "0.641081527610317"
      ]
     },
     "execution_count": 18,
     "metadata": {},
     "output_type": "execute_result"
    }
   ],
   "source": [
    "evaluate_model(test, mod_lg)"
   ]
  },
  {
   "cell_type": "markdown",
   "metadata": {},
   "source": [
    "## Accuracy on the held-out test set"
   ]
  },
  {
   "cell_type": "code",
   "execution_count": 19,
   "metadata": {
    "collapsed": false
   },
   "outputs": [
    {
     "name": "stdout",
     "output_type": "stream",
     "text": [
      "Accuracy of Logistic Regression with SGD on held-out test set is 0.66\n"
     ]
    }
   ],
   "source": [
    "SGD_acc = test.map(lambda x: mod_lg.predict(x.features) == x.label).mean()\n",
    "\n",
    "print('Accuracy of Logistic Regression with SGD on held-out test set is {0:0.2f}'.format(SGD_acc))"
   ]
  },
  {
   "cell_type": "code",
   "execution_count": 20,
   "metadata": {
    "collapsed": false
   },
   "outputs": [
    {
     "name": "stdout",
     "output_type": "stream",
     "text": [
      "Accuracy of Random Forest on held-out test set is 0.84\n"
     ]
    }
   ],
   "source": [
    "predictions = mod_rf.predict(test.map(lambda x:x.features))\n",
    "predcitions_labels = test.map(lambda lp: lp.label).zip(predictions)\n",
    "rf_acc = predcitions_labels.map(lambda x: x[0] == x[1]).mean()\n",
    "\n",
    "print('Accuracy of Random Forest on held-out test set is {0:0.2f}'.format(rf_acc))"
   ]
  },
  {
   "cell_type": "markdown",
   "metadata": {},
   "source": [
    "## Search for optimal hyperparameters of Random Forest  via CV"
   ]
  },
  {
   "cell_type": "code",
   "execution_count": 21,
   "metadata": {
    "collapsed": false
   },
   "outputs": [
    {
     "name": "stdout",
     "output_type": "stream",
     "text": [
      "Total run time is 20.30 sec. Current max_depth is 2\n",
      "Total run time is 43.76 sec. Current max_depth is 3\n",
      "Total run time is 85.84 sec. Current max_depth is 4\n",
      "Total run time is 145.39 sec. Current max_depth is 5\n",
      "Total run time is 222.64 sec. Current max_depth is 6\n",
      "Total run time is 332.06 sec. Current max_depth is 7\n",
      "Total run time is 485.33 sec. Current max_depth is 8\n",
      "Total run time is 638.00 sec. Current max_depth is 9\n",
      "Total run time is 800.80 sec. Current max_depth is 10\n",
      "Total run time is 997.60 sec. Current max_depth is 11\n",
      "Total run time is 1209.70 sec. Current max_depth is 12\n",
      "Total run time is 1413.51 sec. Current max_depth is 13\n"
     ]
    }
   ],
   "source": [
    "max_depth = range(2,14)\n",
    "acc_depth = OrderedDict()\n",
    "\n",
    "start = time.time()\n",
    "\n",
    "for m_d in max_depth:\n",
    "    acc_vector = []\n",
    "    for j in range(10):\n",
    "        tr, val = train.randomSplit([0.8,0.2])\n",
    "        mod = RandomForest.trainClassifier(data = tr,\n",
    "                                           numClasses = 2,\n",
    "                                           categoricalFeaturesInfo ={},\n",
    "                                           numTrees = 500,\n",
    "                                           maxDepth = m_d)\n",
    "        predictions = mod.predict(val.map(lambda x:x.features))\n",
    "        predcitions_labels = val.map(lambda lp: lp.label).zip(predictions)\n",
    "        acc_point = predcitions_labels.map(lambda x: x[0] == x[1]).mean()\n",
    "        acc_vector.append(acc_point)\n",
    "    acc_depth[m_d] = (np.mean(acc_vector), np.std(acc_vector))\n",
    "    print('Total run time is {:0.2f} sec. Current max_depth is {}'.format(time.time() - start, m_d))"
   ]
  },
  {
   "cell_type": "code",
   "execution_count": 22,
   "metadata": {
    "collapsed": false,
    "scrolled": true
   },
   "outputs": [
    {
     "data": {
      "image/png": "[encoded data removed]",
      "text/plain": [
       "<matplotlib.figure.Figure at 0x7f20e5cb0748>"
      ]
     },
     "metadata": {},
     "output_type": "display_data"
    }
   ],
   "source": [
    "depth = np.array([d for d in acc_depth])\n",
    "mn = np.array([i[1][0] for i in acc_depth.items()])\n",
    "sd = np.array([i[1][1] for i in acc_depth.items()])\n",
    "\n",
    "plt.plot(depth, mn)\n",
    "plt.fill_between(depth, mn + sd, mn -sd, color='r', alpha = .2)\n",
    "plt.title('CVed accuracy of Random Forest')\n",
    "plt.xlabel('Tree depth')\n",
    "plt.ylabel(' Mean and std of accuracy')\n",
    "plt.grid();"
   ]
  },
  {
   "cell_type": "markdown",
   "metadata": {},
   "source": [
    "## Accuracy of trained RF on held-out test set"
   ]
  },
  {
   "cell_type": "markdown",
   "metadata": {},
   "source": [
    "let's try '7' and '12' as optimal depth"
   ]
  },
  {
   "cell_type": "code",
   "execution_count": 23,
   "metadata": {
    "collapsed": false
   },
   "outputs": [
    {
     "name": "stdout",
     "output_type": "stream",
     "text": [
      "Accuracy of Random Forest with depth 7 on held-out test set is 0.83\n"
     ]
    }
   ],
   "source": [
    "n = 7\n",
    "\n",
    "mod1_rf = RandomForest.trainClassifier(data = train\n",
    "                                       ,numClasses = 2\n",
    "                                       ,categoricalFeaturesInfo ={}\n",
    "                                       ,numTrees = 1000\n",
    "                                       ,maxDepth = n\n",
    "                                       ,seed =1)\n",
    "\n",
    "predictions = mod1_rf.predict(test.map(lambda x:x.features))\n",
    "predcitions_labels = test.map(lambda lp: lp.label).zip(predictions)\n",
    "rf_acc = predcitions_labels.map(lambda x: x[0] == x[1]).mean()\n",
    "\n",
    "print('Accuracy of Random Forest with depth {} on held-out test set is {:0.2f}'.format(n, rf_acc))"
   ]
  },
  {
   "cell_type": "code",
   "execution_count": 24,
   "metadata": {
    "collapsed": false
   },
   "outputs": [
    {
     "name": "stdout",
     "output_type": "stream",
     "text": [
      "Accuracy of Random Forest with depth 12 on held-out test set is 0.83\n"
     ]
    }
   ],
   "source": [
    "n = 12\n",
    "\n",
    "mod2_rf = RandomForest.trainClassifier(data = train\n",
    "                                       ,numClasses = 2\n",
    "                                       ,categoricalFeaturesInfo ={}\n",
    "                                       ,numTrees = 1000\n",
    "                                       ,maxDepth = n\n",
    "                                       ,seed =1)\n",
    "\n",
    "predictions = mod2_rf.predict(test.map(lambda x:x.features))\n",
    "predcitions_labels = test.map(lambda lp: lp.label).zip(predictions)\n",
    "rf_acc = predcitions_labels.map(lambda x: x[0] == x[1]).mean()\n",
    "\n",
    "print('Accuracy of Random Forest with depth {} on held-out test set is {:0.2f}'.format(n, rf_acc))"
   ]
  }
 ],
 "metadata": {
  "kernelspec": {
   "display_name": "Python 3",
   "language": "python",
   "name": "python3"
  },
  "language_info": {
   "codemirror_mode": {
    "name": "ipython",
    "version": 3
   },
   "file_extension": ".py",
   "mimetype": "text/x-python",
   "name": "python",
   "nbconvert_exporter": "python",
   "pygments_lexer": "ipython3",
   "version": "3.4.3"
  }
 },
 "nbformat": 4,
 "nbformat_minor": 0
}
